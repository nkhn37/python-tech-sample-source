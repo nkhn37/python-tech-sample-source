{
 "cells": [
  {
   "cell_type": "code",
   "execution_count": 1,
   "id": "f61f3007-b65d-4529-ac99-26e4b8a1522e",
   "metadata": {},
   "outputs": [
    {
     "name": "stdout",
     "output_type": "stream",
     "text": [
      "root\n",
      " |-- id: string (nullable = true)\n",
      " |-- value1: long (nullable = true)\n",
      "\n",
      "+----+------+\n",
      "|  id|value1|\n",
      "+----+------+\n",
      "|A001|   100|\n",
      "|B001|   200|\n",
      "|C001|   300|\n",
      "|C002|   400|\n",
      "|E001|   500|\n",
      "+----+------+\n",
      "\n",
      "root\n",
      " |-- id: string (nullable = true)\n",
      " |-- value2: string (nullable = true)\n",
      "\n",
      "+----+------+\n",
      "|  id|value2|\n",
      "+----+------+\n",
      "|B001|   aaa|\n",
      "|C001|   bbb|\n",
      "|D001|   ccc|\n",
      "|E002|   ddd|\n",
      "+----+------+\n",
      "\n"
     ]
    }
   ],
   "source": [
    "from pyspark.sql import SparkSession\n",
    "\n",
    "# SparkSessionの初期化\n",
    "spark = SparkSession.builder.appName(\"ColumnsOperation\").getOrCreate()\n",
    "\n",
    "data_a = [\n",
    "    (\"A001\", 100),\n",
    "    (\"B001\", 200),\n",
    "    (\"C001\", 300),\n",
    "    (\"C002\", 400),\n",
    "    (\"E001\", 500),\n",
    "]\n",
    "df_a = spark.createDataFrame(data_a, [\"id\", \"value1\"])\n",
    "df_a.printSchema()\n",
    "df_a.show()\n",
    "\n",
    "data_b = [\n",
    "    (\"B001\", \"aaa\"),\n",
    "    (\"C001\", \"bbb\"),\n",
    "    (\"D001\", \"ccc\"),\n",
    "    (\"E002\", \"ddd\"),\n",
    "]\n",
    "df_b = spark.createDataFrame(data_b, [\"id\", \"value2\"])\n",
    "df_b.printSchema()\n",
    "df_b.show()"
   ]
  },
  {
   "cell_type": "code",
   "execution_count": 2,
   "id": "836ca02b-7ed6-471e-ad4a-5818aad031b4",
   "metadata": {},
   "outputs": [
    {
     "name": "stdout",
     "output_type": "stream",
     "text": [
      "+----+------+------+\n",
      "|  id|value1|value2|\n",
      "+----+------+------+\n",
      "|B001|   200|   aaa|\n",
      "|C001|   300|   bbb|\n",
      "+----+------+------+\n",
      "\n"
     ]
    }
   ],
   "source": [
    "# 内部結合 (inner join)\n",
    "df_inner = df_a.join(df_b, on=[\"id\"], how=\"inner\")\n",
    "df_inner.show()"
   ]
  },
  {
   "cell_type": "code",
   "execution_count": 3,
   "id": "2685201b-d97c-4b29-8031-371d59251451",
   "metadata": {},
   "outputs": [
    {
     "name": "stdout",
     "output_type": "stream",
     "text": [
      "+----+------+------+\n",
      "|  id|value1|value2|\n",
      "+----+------+------+\n",
      "|A001|   100|  NULL|\n",
      "|B001|   200|   aaa|\n",
      "|C001|   300|   bbb|\n",
      "|C002|   400|  NULL|\n",
      "|D001|  NULL|   ccc|\n",
      "|E001|   500|  NULL|\n",
      "|E002|  NULL|   ddd|\n",
      "+----+------+------+\n",
      "\n"
     ]
    }
   ],
   "source": [
    "# 外部結合 (outer join)\n",
    "df_outer = df_a.join(df_b, on=[\"id\"], how=\"outer\")\n",
    "df_outer.show()"
   ]
  },
  {
   "cell_type": "code",
   "execution_count": 4,
   "id": "a5f32d01-5138-497b-8aa4-2a33bf664b15",
   "metadata": {},
   "outputs": [
    {
     "name": "stdout",
     "output_type": "stream",
     "text": [
      "+----+------+------+\n",
      "|  id|value1|value2|\n",
      "+----+------+------+\n",
      "|A001|   100|  NULL|\n",
      "|B001|   200|   aaa|\n",
      "|C001|   300|   bbb|\n",
      "|C002|   400|  NULL|\n",
      "|E001|   500|  NULL|\n",
      "+----+------+------+\n",
      "\n"
     ]
    }
   ],
   "source": [
    "# 左外部結合 (left Outer join)\n",
    "df_left_outer = df_a.join(df_b, on=[\"id\"], how=\"left\")\n",
    "df_left_outer.show()"
   ]
  },
  {
   "cell_type": "code",
   "execution_count": 5,
   "id": "0c7f22f1-f938-47e7-acab-675e8dc5c128",
   "metadata": {},
   "outputs": [
    {
     "name": "stdout",
     "output_type": "stream",
     "text": [
      "+----+------+------+\n",
      "|  id|value1|value2|\n",
      "+----+------+------+\n",
      "|B001|   200|   aaa|\n",
      "|C001|   300|   bbb|\n",
      "|D001|  NULL|   ccc|\n",
      "|E002|  NULL|   ddd|\n",
      "+----+------+------+\n",
      "\n"
     ]
    }
   ],
   "source": [
    "# 右外部結合 (Right Outer Join)\n",
    "df_right_outer = df_a.join(df_b, on=[\"id\"], how=\"right\")\n",
    "df_right_outer.show()"
   ]
  },
  {
   "cell_type": "code",
   "execution_count": 6,
   "id": "49dcf5e8-9f3f-43cd-adfc-9a66b6e3b467",
   "metadata": {},
   "outputs": [
    {
     "name": "stdout",
     "output_type": "stream",
     "text": [
      "root\n",
      " |-- id: string (nullable = true)\n",
      " |-- value1: long (nullable = true)\n",
      " |-- value3: string (nullable = true)\n",
      "\n",
      "+----+------+------+\n",
      "|  id|value1|value3|\n",
      "+----+------+------+\n",
      "|A001|     1|  num1|\n",
      "|B001|   200|  num2|\n",
      "|C001|   300|  num3|\n",
      "|C001|     4|  num4|\n",
      "|E001|   500|  num5|\n",
      "+----+------+------+\n",
      "\n"
     ]
    }
   ],
   "source": [
    "data_c = [\n",
    "    (\"A001\", 1, \"num1\"),\n",
    "    (\"B001\", 200, \"num2\"),\n",
    "    (\"C001\", 300, \"num3\"),\n",
    "    (\"C001\", 4, \"num4\"),\n",
    "    (\"E001\", 500, \"num5\"),\n",
    "]\n",
    "df_c = spark.createDataFrame(data_c, [\"id\", \"value1\", \"value3\"])\n",
    "df_c.printSchema()\n",
    "df_c.show()"
   ]
  },
  {
   "cell_type": "code",
   "execution_count": 7,
   "id": "ba3cf896-5d3c-4e20-a93f-a9c41880303c",
   "metadata": {},
   "outputs": [
    {
     "name": "stdout",
     "output_type": "stream",
     "text": [
      "+----+------+------+\n",
      "|  id|value1|value3|\n",
      "+----+------+------+\n",
      "|B001|   200|  num2|\n",
      "|C001|   300|  num3|\n",
      "|E001|   500|  num5|\n",
      "+----+------+------+\n",
      "\n"
     ]
    }
   ],
   "source": [
    "# 複数条件での結合\n",
    "df_inner_multi = df_a.join(df_c, on=[\"id\", \"value1\"], how=\"inner\")\n",
    "df_inner_multi.show()"
   ]
  },
  {
   "cell_type": "code",
   "execution_count": 8,
   "id": "568263a3-6d0c-4cfb-b8c2-3860a8f0e293",
   "metadata": {},
   "outputs": [
    {
     "name": "stdout",
     "output_type": "stream",
     "text": [
      "root\n",
      " |-- no: string (nullable = true)\n",
      " |-- value5: string (nullable = true)\n",
      "\n",
      "+----+------+\n",
      "|  no|value5|\n",
      "+----+------+\n",
      "|B001|   aaa|\n",
      "|C001|   bbb|\n",
      "|D001|   ccc|\n",
      "|E002|   ddd|\n",
      "+----+------+\n",
      "\n"
     ]
    }
   ],
   "source": [
    "data_d = [\n",
    "    (\"B001\", \"aaa\"),\n",
    "    (\"C001\", \"bbb\"),\n",
    "    (\"D001\", \"ccc\"),\n",
    "    (\"E002\", \"ddd\"),\n",
    "]\n",
    "df_d = spark.createDataFrame(data_d, [\"no\", \"value5\"])\n",
    "df_d.printSchema()\n",
    "df_d.show()"
   ]
  },
  {
   "cell_type": "code",
   "execution_count": 9,
   "id": "558d09c0-60e3-42d4-b064-082d7e9c7395",
   "metadata": {},
   "outputs": [
    {
     "name": "stdout",
     "output_type": "stream",
     "text": [
      "+----+------+----+------+\n",
      "|  id|value1|  no|value5|\n",
      "+----+------+----+------+\n",
      "|B001|   200|B001|   aaa|\n",
      "|C001|   300|C001|   bbb|\n",
      "+----+------+----+------+\n",
      "\n"
     ]
    }
   ],
   "source": [
    "# 等価演算子(==)を使用して異なる列名を条件に結合する\n",
    "df_inner_equal = df_a.join(df_d, df_a.id == df_d.no, how=\"inner\")\n",
    "df_inner_equal.show()"
   ]
  },
  {
   "cell_type": "code",
   "execution_count": 10,
   "id": "41331fd4-78f8-4681-9361-e0c8fa8deed9",
   "metadata": {},
   "outputs": [
    {
     "name": "stdout",
     "output_type": "stream",
     "text": [
      "+----+------+\n",
      "|  id|value5|\n",
      "+----+------+\n",
      "|B001|   aaa|\n",
      "|C001|   bbb|\n",
      "|D001|   ccc|\n",
      "|E002|   ddd|\n",
      "+----+------+\n",
      "\n",
      "+----+------+------+\n",
      "|  id|value1|value5|\n",
      "+----+------+------+\n",
      "|B001|   200|   aaa|\n",
      "|C001|   300|   bbb|\n",
      "+----+------+------+\n",
      "\n"
     ]
    }
   ],
   "source": [
    "# 列名を変更して統一する\n",
    "df_d = df_d.withColumnRenamed(\"no\", \"id\")\n",
    "df_d.show()\n",
    "\n",
    "# 統一した列名を用いて結合する\n",
    "df_inner_renamed = df_a.join(df_d, on=[\"id\"], how=\"inner\")\n",
    "df_inner_renamed.show()"
   ]
  },
  {
   "cell_type": "code",
   "execution_count": 11,
   "id": "6817e4bb-b016-454c-8382-69f7cce267d5",
   "metadata": {},
   "outputs": [],
   "source": [
    "# SparkSessionを終了\n",
    "spark.stop()"
   ]
  }
 ],
 "metadata": {
  "kernelspec": {
   "display_name": "Python 3 (ipykernel)",
   "language": "python",
   "name": "python3"
  },
  "language_info": {
   "codemirror_mode": {
    "name": "ipython",
    "version": 3
   },
   "file_extension": ".py",
   "mimetype": "text/x-python",
   "name": "python",
   "nbconvert_exporter": "python",
   "pygments_lexer": "ipython3",
   "version": "3.11.6"
  }
 },
 "nbformat": 4,
 "nbformat_minor": 5
}
