{
 "cells": [
  {
   "cell_type": "code",
   "execution_count": 1,
   "id": "b3610712-0956-4548-b995-f9b7ab3edbab",
   "metadata": {},
   "outputs": [
    {
     "name": "stdout",
     "output_type": "stream",
     "text": [
      "+------+---+\n",
      "|  name|age|\n",
      "+------+---+\n",
      "|  Taro| 25|\n",
      "|Hanako| 30|\n",
      "|  Yuki| 20|\n",
      "+------+---+\n",
      "\n"
     ]
    }
   ],
   "source": [
    "from pyspark.sql import SparkSession\n",
    "from pyspark.sql import Row\n",
    "\n",
    "# SparkSessionの初期化\n",
    "spark = SparkSession.builder.appName(\"DataFrameExample\").getOrCreate()\n",
    "\n",
    "# データをRDD(Resilient Distributed Dataset)で用意\n",
    "rdd = spark.sparkContext.parallelize(\n",
    "    [Row(name=\"Taro\", age=25), Row(name=\"Hanako\", age=30), Row(name=\"Yuki\", age=20)]\n",
    ")\n",
    "\n",
    "# DataFrameを生成\n",
    "df = spark.createDataFrame(rdd)\n",
    "\n",
    "# DataFrameの内容を表示\n",
    "df.show()\n",
    "\n",
    "# SparkSessionを終了\n",
    "spark.stop()"
   ]
  },
  {
   "cell_type": "code",
   "execution_count": null,
   "id": "6a6f6079-db84-4172-96e6-10846e985826",
   "metadata": {},
   "outputs": [],
   "source": []
  }
 ],
 "metadata": {
  "kernelspec": {
   "display_name": "Python 3 (ipykernel)",
   "language": "python",
   "name": "python3"
  },
  "language_info": {
   "codemirror_mode": {
    "name": "ipython",
    "version": 3
   },
   "file_extension": ".py",
   "mimetype": "text/x-python",
   "name": "python",
   "nbconvert_exporter": "python",
   "pygments_lexer": "ipython3",
   "version": "3.11.6"
  }
 },
 "nbformat": 4,
 "nbformat_minor": 5
}
