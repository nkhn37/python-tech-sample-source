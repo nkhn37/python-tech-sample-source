{
 "cells": [
  {
   "cell_type": "code",
   "execution_count": 1,
   "id": "b3610712-0956-4548-b995-f9b7ab3edbab",
   "metadata": {},
   "outputs": [
    {
     "name": "stdout",
     "output_type": "stream",
     "text": [
      "+------+---+\n",
      "|  name|age|\n",
      "+------+---+\n",
      "|  Taro| 25|\n",
      "|Hanako| 30|\n",
      "|  Yuki| 20|\n",
      "+------+---+\n",
      "\n"
     ]
    }
   ],
   "source": [
    "from pyspark.sql import SparkSession\n",
    "import numpy as np\n",
    "\n",
    "# SparkSessionの初期化\n",
    "spark = SparkSession.builder.appName(\"DataFrameExample\").getOrCreate()\n",
    "\n",
    "# データをnumpyのndarrayで用意\n",
    "array = np.array([(\"Taro\", 25), (\"Hanako\", 30), (\"Yuki\", 20)])\n",
    "\n",
    "# DataFrameを生成\n",
    "df = spark.createDataFrame(array, [\"name\", \"age\"])\n",
    "\n",
    "# DataFrameの内容を表示\n",
    "df.show()\n",
    "\n",
    "# SparkSessionを終了\n",
    "spark.stop()"
   ]
  },
  {
   "cell_type": "code",
   "execution_count": null,
   "id": "6a6f6079-db84-4172-96e6-10846e985826",
   "metadata": {},
   "outputs": [],
   "source": []
  }
 ],
 "metadata": {
  "kernelspec": {
   "display_name": "Python 3 (ipykernel)",
   "language": "python",
   "name": "python3"
  },
  "language_info": {
   "codemirror_mode": {
    "name": "ipython",
    "version": 3
   },
   "file_extension": ".py",
   "mimetype": "text/x-python",
   "name": "python",
   "nbconvert_exporter": "python",
   "pygments_lexer": "ipython3",
   "version": "3.11.6"
  }
 },
 "nbformat": 4,
 "nbformat_minor": 5
}
