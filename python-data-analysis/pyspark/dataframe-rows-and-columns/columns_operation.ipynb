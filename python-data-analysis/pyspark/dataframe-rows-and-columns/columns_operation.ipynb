{
 "cells": [
  {
   "cell_type": "code",
   "execution_count": 1,
   "id": "2f7493c1-761d-4e68-9c14-f3e1ed43af30",
   "metadata": {},
   "outputs": [
    {
     "name": "stdout",
     "output_type": "stream",
     "text": [
      "root\n",
      " |-- Firstname: string (nullable = true)\n",
      " |-- Lastname: string (nullable = true)\n",
      " |-- Gender: string (nullable = true)\n",
      " |-- Age: integer (nullable = true)\n",
      " |-- Department: string (nullable = true)\n",
      " |-- Salary: integer (nullable = true)\n",
      "\n",
      "+---------+--------+------+---+-----------+------+\n",
      "|Firstname|Lastname|Gender|Age| Department|Salary|\n",
      "+---------+--------+------+---+-----------+------+\n",
      "|    James|   Smith|     M| 30|      Sales|  3000|\n",
      "|     Anna|    Rose|     F| 41|Engineering|  4000|\n",
      "|   Robert|Williams|     M| 62|  Logistics|  5000|\n",
      "+---------+--------+------+---+-----------+------+\n",
      "\n"
     ]
    }
   ],
   "source": [
    "from pyspark.sql import SparkSession\n",
    "from pyspark.sql.types import StructType, StructField, StringType, IntegerType, FloatType\n",
    "\n",
    "# SparkSessionの初期化\n",
    "spark = SparkSession.builder.appName(\"ColumnsOperation\").getOrCreate()\n",
    "\n",
    "# スキーマを定義\n",
    "schema = StructType([\n",
    "    StructField(\"Firstname\", StringType(), True),\n",
    "    StructField(\"Lastname\", StringType(), True),\n",
    "    StructField(\"Gender\", StringType(), True),\n",
    "    StructField(\"Age\", IntegerType(), True),\n",
    "    StructField(\"Department\", StringType(), True),\n",
    "    StructField(\"Salary\", IntegerType(), True),    \n",
    "])\n",
    "# データを作成\n",
    "data = [\n",
    "    (\"James\", \"Smith\", \"M\", 30, \"Sales\", 3000),\n",
    "    (\"Anna\", \"Rose\", \"F\", 41, \"Engineering\", 4000),\n",
    "    (\"Robert\", \"Williams\", \"M\", 62, \"Logistics\", 5000),\n",
    "]\n",
    "# データフレームの作成\n",
    "df = spark.createDataFrame(data, schema=schema)\n",
    "df.printSchema()\n",
    "df.show()"
   ]
  },
  {
   "cell_type": "code",
   "execution_count": 2,
   "id": "d34dbe19-d42d-4d59-b75a-fc67e900c8fa",
   "metadata": {},
   "outputs": [
    {
     "name": "stdout",
     "output_type": "stream",
     "text": [
      "root\n",
      " |-- Firstname: string (nullable = true)\n",
      " |-- Lastname: string (nullable = true)\n",
      " |-- Gender: string (nullable = true)\n",
      " |-- Age: integer (nullable = true)\n",
      " |-- Department: string (nullable = true)\n",
      " |-- Salary: integer (nullable = true)\n",
      " |-- Country: string (nullable = false)\n",
      " |-- Rate: float (nullable = false)\n",
      "\n",
      "+---------+--------+------+---+-----------+------+-------+----+\n",
      "|Firstname|Lastname|Gender|Age| Department|Salary|Country|Rate|\n",
      "+---------+--------+------+---+-----------+------+-------+----+\n",
      "|    James|   Smith|     M| 30|      Sales|  3000|    USA| 1.1|\n",
      "|     Anna|    Rose|     F| 41|Engineering|  4000|    USA| 1.1|\n",
      "|   Robert|Williams|     M| 62|  Logistics|  5000|    USA| 1.1|\n",
      "+---------+--------+------+---+-----------+------+-------+----+\n",
      "\n"
     ]
    }
   ],
   "source": [
    "from pyspark.sql.functions import lit\n",
    "\n",
    "#===== 列の追加 withColumn\n",
    "# 定数列を追加\n",
    "df = df.withColumn(\"Country\", lit(\"USA\"))\n",
    "df = df.withColumn(\"Rate\", lit(1.1).cast(FloatType()))\n",
    "df.printSchema()\n",
    "df.show()"
   ]
  },
  {
   "cell_type": "code",
   "execution_count": 3,
   "id": "ff5b5667-cd97-45f0-8fbf-12254a54069f",
   "metadata": {},
   "outputs": [
    {
     "name": "stdout",
     "output_type": "stream",
     "text": [
      "root\n",
      " |-- Firstname: string (nullable = true)\n",
      " |-- Lastname: string (nullable = true)\n",
      " |-- Gender: string (nullable = true)\n",
      " |-- Age: integer (nullable = true)\n",
      " |-- Dept: string (nullable = true)\n",
      " |-- Salary: integer (nullable = true)\n",
      " |-- Country: string (nullable = false)\n",
      " |-- Rate: float (nullable = false)\n",
      "\n",
      "+---------+--------+------+---+-----------+------+-------+----+\n",
      "|Firstname|Lastname|Gender|Age|       Dept|Salary|Country|Rate|\n",
      "+---------+--------+------+---+-----------+------+-------+----+\n",
      "|    James|   Smith|     M| 30|      Sales|  3000|    USA| 1.1|\n",
      "|     Anna|    Rose|     F| 41|Engineering|  4000|    USA| 1.1|\n",
      "|   Robert|Williams|     M| 62|  Logistics|  5000|    USA| 1.1|\n",
      "+---------+--------+------+---+-----------+------+-------+----+\n",
      "\n"
     ]
    }
   ],
   "source": [
    "# ===== 列の名称変更 withColumnRenamed\n",
    "df = df.withColumnRenamed(\"Department\", \"Dept\")\n",
    "df.printSchema()\n",
    "df.show()"
   ]
  },
  {
   "cell_type": "code",
   "execution_count": 4,
   "id": "f4ec1e8b-5e78-4643-b742-cdd97e0ea3f9",
   "metadata": {},
   "outputs": [
    {
     "name": "stdout",
     "output_type": "stream",
     "text": [
      "root\n",
      " |-- Firstname: string (nullable = true)\n",
      " |-- Lastname: string (nullable = true)\n",
      " |-- Gender: string (nullable = true)\n",
      " |-- Age: integer (nullable = true)\n",
      " |-- Dept: string (nullable = true)\n",
      " |-- Salary: integer (nullable = true)\n",
      " |-- Rate: float (nullable = false)\n",
      "\n",
      "+---------+--------+------+---+-----------+------+----+\n",
      "|Firstname|Lastname|Gender|Age|       Dept|Salary|Rate|\n",
      "+---------+--------+------+---+-----------+------+----+\n",
      "|    James|   Smith|     M| 30|      Sales|  3000| 1.1|\n",
      "|     Anna|    Rose|     F| 41|Engineering|  4000| 1.1|\n",
      "|   Robert|Williams|     M| 62|  Logistics|  5000| 1.1|\n",
      "+---------+--------+------+---+-----------+------+----+\n",
      "\n"
     ]
    }
   ],
   "source": [
    "# ===== 列の削除 drop\n",
    "df = df.drop(\"Country\")\n",
    "df.printSchema()\n",
    "df.show()"
   ]
  },
  {
   "cell_type": "code",
   "execution_count": 5,
   "id": "0a54e3e4-d7c8-40c6-ac70-a05092b79aaa",
   "metadata": {},
   "outputs": [
    {
     "name": "stdout",
     "output_type": "stream",
     "text": [
      "root\n",
      " |-- Firstname: string (nullable = true)\n",
      " |-- Age: integer (nullable = true)\n",
      "\n",
      "+---------+---+\n",
      "|Firstname|Age|\n",
      "+---------+---+\n",
      "|    James| 30|\n",
      "|     Anna| 41|\n",
      "|   Robert| 62|\n",
      "+---------+---+\n",
      "\n"
     ]
    }
   ],
   "source": [
    "# ===== 列の選択 select\n",
    "df_selected = df.select([\"Firstname\", \"Age\"])\n",
    "df_selected.printSchema()\n",
    "df_selected.show()"
   ]
  },
  {
   "cell_type": "code",
   "execution_count": 6,
   "id": "ff6d09d7-d930-4d5d-9db3-79f94fb7f078",
   "metadata": {},
   "outputs": [
    {
     "name": "stdout",
     "output_type": "stream",
     "text": [
      "root\n",
      " |-- Firstname: string (nullable = true)\n",
      " |-- Lastname: string (nullable = true)\n",
      " |-- Gender: string (nullable = true)\n",
      " |-- Age: integer (nullable = true)\n",
      " |-- Dept: string (nullable = true)\n",
      " |-- Salary: integer (nullable = true)\n",
      " |-- Rate: float (nullable = false)\n",
      " |-- Increased Salary: float (nullable = true)\n",
      "\n",
      "+---------+--------+------+---+-----------+------+----+----------------+\n",
      "|Firstname|Lastname|Gender|Age|       Dept|Salary|Rate|Increased Salary|\n",
      "+---------+--------+------+---+-----------+------+----+----------------+\n",
      "|    James|   Smith|     M| 30|      Sales|  3000| 1.1|          3300.0|\n",
      "|     Anna|    Rose|     F| 41|Engineering|  4000| 1.1|          4400.0|\n",
      "|   Robert|Williams|     M| 62|  Logistics|  5000| 1.1|          5500.0|\n",
      "+---------+--------+------+---+-----------+------+----+----------------+\n",
      "\n"
     ]
    }
   ],
   "source": [
    "from pyspark.sql.functions import expr\n",
    "\n",
    "# ===== 式の適用 expr\n",
    "df = df.withColumn(\"Increased Salary\", expr(\"Salary * Rate\"))\n",
    "df.printSchema()\n",
    "df.show()"
   ]
  },
  {
   "cell_type": "code",
   "execution_count": 7,
   "id": "9df8d416-abc4-43f2-a3b4-8452f0a95967",
   "metadata": {},
   "outputs": [],
   "source": [
    "# SparkSessionを終了\n",
    "spark.stop()"
   ]
  }
 ],
 "metadata": {
  "kernelspec": {
   "display_name": "Python 3 (ipykernel)",
   "language": "python",
   "name": "python3"
  },
  "language_info": {
   "codemirror_mode": {
    "name": "ipython",
    "version": 3
   },
   "file_extension": ".py",
   "mimetype": "text/x-python",
   "name": "python",
   "nbconvert_exporter": "python",
   "pygments_lexer": "ipython3",
   "version": "3.11.6"
  }
 },
 "nbformat": 4,
 "nbformat_minor": 5
}
