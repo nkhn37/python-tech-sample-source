{
 "cells": [
  {
   "cell_type": "code",
   "execution_count": 1,
   "id": "57980215-eb1d-421f-a4a5-9ee7af8db18d",
   "metadata": {},
   "outputs": [],
   "source": [
    "from pyspark.sql import SparkSession\n",
    "from pyspark.sql.types import StructType, StructField, StringType, IntegerType\n",
    "\n",
    "# SparkSessionの初期化\n",
    "spark = SparkSession.builder.appName(\"DataFrameInputOutput\").getOrCreate()\n",
    "\n",
    "# スキーマを定義\n",
    "schema = StructType([\n",
    "    StructField(\"name\", StringType(), True),\n",
    "    StructField(\"age\", IntegerType(), True),\n",
    "])\n",
    "\n",
    "# データを作成\n",
    "data = [(\"Taro\", 25), (\"Hanako\", 30), (\"Yuki\", 20)]\n",
    "\n",
    "# スキーマを指定してデータフレームを生成\n",
    "df = spark.createDataFrame(data, schema=schema)\n",
    "\n",
    "# CSVファイルへの書き込み\n",
    "(df.write\n",
    "    .option(\"header\", \"true\")\n",
    "    .mode(\"overwrite\")\n",
    "    .csv(\"./output_csv\"))\n",
    "\n",
    "# Parquetファイルへの書き込み\n",
    "(df.write\n",
    "    .mode(\"overwrite\")\n",
    "    .parquet(\"./output_parquet\"))\n",
    "\n",
    "# ORCファイルへの書き込み\n",
    "(df.write\n",
    "    .mode(\"overwrite\")\n",
    "    .orc(\"./output_orc\"))\n",
    "\n",
    "# JSONファイルへの書き込み\n",
    "(df.write\n",
    "    .mode(\"overwrite\")\n",
    "    .json(\"./output_json\"))\n",
    "\n",
    "# SparkSessionを終了\n",
    "spark.stop()"
   ]
  }
 ],
 "metadata": {
  "kernelspec": {
   "display_name": "Python 3 (ipykernel)",
   "language": "python",
   "name": "python3"
  },
  "language_info": {
   "codemirror_mode": {
    "name": "ipython",
    "version": 3
   },
   "file_extension": ".py",
   "mimetype": "text/x-python",
   "name": "python",
   "nbconvert_exporter": "python",
   "pygments_lexer": "ipython3",
   "version": "3.11.6"
  }
 },
 "nbformat": 4,
 "nbformat_minor": 5
}
